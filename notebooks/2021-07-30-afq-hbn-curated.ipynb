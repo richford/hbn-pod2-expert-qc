{
 "cells": [
  {
   "cell_type": "code",
   "execution_count": 1,
   "id": "55806986",
   "metadata": {},
   "outputs": [],
   "source": [
    "import cloudknot as ck\n",
    "import itertools\n",
    "ck.set_region('us-west-2')"
   ]
  },
  {
   "cell_type": "code",
   "execution_count": 2,
   "id": "8b257123",
   "metadata": {},
   "outputs": [
    {
     "name": "stderr",
     "output_type": "stream",
     "text": [
      "/Users/richford/miniconda3/envs/cloudknot-pyafq/lib/python3.8/site-packages/dask/config.py:168: YAMLLoadWarning: calling yaml.load() without Loader=... is deprecated, as the default Loader is unsafe. Please read https://msg.pyyaml.org/load for full details.\n",
      "  data = yaml.load(f.read()) or {}\n"
     ]
    },
    {
     "name": "stdout",
     "output_type": "stream",
     "text": [
      "Retrieving subject S3 keys\n",
      "[########################################] | 100% Completed |  4min 51.9s\n"
     ]
    }
   ],
   "source": [
    "import AFQ.data as afqd\n",
    "study = afqd.S3BIDSStudy(\n",
    "    \"hbn-curated\",\n",
    "    \"fcp-indi\",\n",
    "    \"data/Projects/HBN/BIDS_curated/derivatives/qsiprep\",\n",
    "    subjects=\"all\",\n",
    ")"
   ]
  },
  {
   "cell_type": "code",
   "execution_count": 41,
   "id": "85496911",
   "metadata": {},
   "outputs": [],
   "source": [
    "def afq_hbn(subject):\n",
    "    import AFQ\n",
    "    print(AFQ.__version__)\n",
    "    \n",
    "    import AFQ.data as afqd\n",
    "    import AFQ.api as api\n",
    "    import AFQ.definitions.mask as afm\n",
    "    import os.path as op\n",
    "    import os\n",
    "    import s3fs\n",
    "    import shutil\n",
    "    import packaging\n",
    "    import cython\n",
    "    \n",
    "    local_bids_folder = \"hbn\"\n",
    "\n",
    "    input_bucket = \"fcp-indi\"\n",
    "    input_s3_prefix = \"data/Projects/HBN/BIDS_curated\"\n",
    "\n",
    "    output_bucket = \"hbn-afq\"\n",
    "    output_s3_prefix = \"\"\n",
    "    output_deriv_name = \"afq_like_hcp\"\n",
    "\n",
    "    # select subjects from qsiprep\n",
    "    study = afqd.S3BIDSStudy(\n",
    "        \"hbn-curated\",\n",
    "        input_bucket,\n",
    "        input_s3_prefix,\n",
    "        subjects=[subject],\n",
    "        random_seed=42\n",
    "    )\n",
    "\n",
    "    study.download(local_bids_folder, include_derivs=True)\n",
    "    \n",
    "    session = [\n",
    "        d for d in os.listdir(op.join(local_bids_folder, \"derivatives\", \"qsiprep\", subject))\n",
    "        if d.startswith(\"ses-\")\n",
    "    ][0]\n",
    "    \n",
    "    for fname in os.listdir(op.join(\n",
    "        local_bids_folder, \"derivatives\", \"qsiprep\", subject, \"anat\"\n",
    "    )):\n",
    "        shutil.copy2(\n",
    "            op.join(local_bids_folder, \"derivatives\", \"qsiprep\", subject, \"anat\", fname),\n",
    "            op.join(local_bids_folder, \"derivatives\", \"qsiprep\", subject, session, \"anat\"),\n",
    "        )\n",
    "\n",
    "    fs = s3fs.S3FileSystem()\n",
    "\n",
    "    # Only do it if the output file doesn't already exist:    \n",
    "    if not fs.exists(f\"hbn-afq/derivatives/{output_deriv_name}/{subject}/\"\n",
    "                     f\"{session}/{subject}_{session}_\"\n",
    "                     \"acq-64dir_space-T1w_desc-preproc_dwi_space-RASMM_model-CSD_\"\n",
    "                     \"desc-prob-afq_profiles.csv\"):\n",
    "        # Configuration:\n",
    "        # session = \"Retest\"\n",
    "        seg_algo = \"afq\"\n",
    "        reuse_tractography = False\n",
    "        bundle_info = api.BUNDLES + api.CALLOSUM_BUNDLES\n",
    "        shell = \"multi\"\n",
    "\n",
    "        tracking_params = {\n",
    "            'seed_mask': afm.ScalarMask('dki_fa'),\n",
    "            'stop_mask': afm.ScalarMask('dki_fa'),\n",
    "            \"odf_model\": \"CSD\",\n",
    "            \"directions\": \"prob\"\n",
    "        }\n",
    "        kwargs = {\n",
    "            \"scalars\": [\"dki_fa\", \"dki_md\", \"dki_mk\", \"dki_awf\"]\n",
    "        }\n",
    "\n",
    "        # Whether to reuse a previous tractography that has already been\n",
    "        # uploaded to s3 by another run of this function. Useful if you want to\n",
    "        # try new parameters that do not change the tractography.\n",
    "        custom_tractography_bids_filters = None\n",
    "\n",
    "#         if reuse_tractography:\n",
    "#             rpath = (f\"profile-hcp-west/hcp_reliability/multi_shell/\"\n",
    "#                      f\"hcp_{session.lower()}_reco80_csd_azure/sub-{subject}\"\n",
    "#                      f\"/ses-01/sub-{subject}_dwi_space-RASMM\"\n",
    "#                      f\"_model-CSD_desc-prob_tractography.trk\")\n",
    "#             #  rpath=(\n",
    "#             #      f\"{my_hcp_key}/{shell}_shell/\"\n",
    "#             #      f\"hcp_{session.lower()}_afq/sub-{subject}/ses-01/\"\n",
    "#             #      f\"sub-{subject}_dwi_space-RASMM_model-\"\n",
    "#             #      f\"{tracking_params['odf_model']}_desc-prob_tractography.trk\")\n",
    "#             lpath = (\n",
    "#                 f\"derivatives/dmriprep/sub-{subject}/\"\n",
    "#                 f\"ses-01/sub-{subject}_customtrk.trk\")\n",
    "#             if fs.exists(rpath):\n",
    "#                 log.info(f\"Gettng {rpath}\")\n",
    "#                 fs.get(\n",
    "#                     rpath,\n",
    "#                     op.join(hcp_bids, lpath))\n",
    "#                 custom_tractography_bids_filters = {\n",
    "#                     \"suffix\": \"customtrk\", \"scope\": \"dmriprep\"}\n",
    "\n",
    "        # Initialize the AFQ object with all of the parameters we have set so far\n",
    "        # Sets viz_backend='plotly' to make GIFs in addition to the default html\n",
    "        # visualizations (this adds ~45 minutes)        \n",
    "        myafq = api.AFQ(\n",
    "            local_bids_folder,\n",
    "            dmriprep=\"qsiprep\",\n",
    "            brain_mask=afm.MaskFile(\n",
    "                \"mask\",\n",
    "                {\n",
    "                    \"desc\": \"brain\",\n",
    "                    \"space\": None,\n",
    "                }\n",
    "            ),\n",
    "            custom_tractography_bids_filters=custom_tractography_bids_filters,\n",
    "            tracking_params=tracking_params,\n",
    "            bundle_info=bundle_info,\n",
    "            segmentation_params={\n",
    "                \"seg_algo\": seg_algo, \"reg_algo\": \"syn\"},\n",
    "            viz_backend='plotly',\n",
    "            **kwargs)\n",
    "        \n",
    "        # run the AFQ objects\n",
    "        print(\"Running the pyAFQ pipeline\")\n",
    "        myafq.export_all(afqbrowser=False, xforms=False)\n",
    "        \n",
    "        remote_export_path = op.join(\n",
    "            output_bucket,\n",
    "            output_s3_prefix,\n",
    "            \"derivatives\",\n",
    "            output_deriv_name\n",
    "        )\n",
    "        print(f\"Uploading to {remote_export_path}\")\n",
    "        myafq.upload_to_s3(fs, remote_export_path)\n",
    "    else:\n",
    "        print(f\"Already completed analysis for this subject\")"
   ]
  },
  {
   "cell_type": "code",
   "execution_count": 44,
   "id": "7b10658f",
   "metadata": {},
   "outputs": [
    {
     "name": "stderr",
     "output_type": "stream",
     "text": [
      "WARNING:cloudknot.dockerimage:Found docker-image afq-hbn-like-hcp in your config file but the input parameters have changed. The updated parameters are ['func', 'github_installs']. Continuing with the new input parameters and disregarding any old, potentially conflicting ones.\n"
     ]
    }
   ],
   "source": [
    "di = ck.DockerImage(\n",
    "    name=\"afq-hbn-like-hcp\",\n",
    "    func=afq_hbn,\n",
    "    base_image=\"libglxvfb:1\",\n",
    "    github_installs=\"https://github.com/yeatmanlab/pyAFQ.git@master\",\n",
    "    overwrite=True\n",
    ")"
   ]
  },
  {
   "cell_type": "code",
   "execution_count": 45,
   "id": "ff091eb5",
   "metadata": {},
   "outputs": [],
   "source": [
    "di.build(tags=[\"afq-hbn-like-hcp-20210730\"])"
   ]
  },
  {
   "cell_type": "code",
   "execution_count": 46,
   "id": "f0c39842",
   "metadata": {},
   "outputs": [],
   "source": [
    "repo = ck.aws.DockerRepo(name=ck.get_ecr_repo())\n",
    "di.push(repo=repo)"
   ]
  },
  {
   "cell_type": "code",
   "execution_count": 26,
   "id": "b3163576",
   "metadata": {},
   "outputs": [],
   "source": [
    "knot = ck.Knot(\n",
    "    name=\"afq-hbn-like-hcp-20210731-0\",\n",
    "    docker_image=di,\n",
    "    pars_policies=(\"AmazonS3FullAccess\"),\n",
    "    bid_percentage=100,\n",
    "    volume_size=60,\n",
    "    memory=64000,\n",
    "    job_def_vcpus=4,\n",
    "    max_vcpus=512,\n",
    "    retries=3,\n",
    "    aws_resource_tags={\"Project\": \"HBN-FCP-INDI\"},\n",
    ")"
   ]
  },
  {
   "cell_type": "code",
   "execution_count": 27,
   "id": "762cd4b1",
   "metadata": {},
   "outputs": [],
   "source": [
    "debug_subs = study._all_subjects[:5]\n",
    "pilot_subs = study._all_subjects[5:100]\n",
    "remaining_subs = study._all_subjects[50:]"
   ]
  },
  {
   "cell_type": "code",
   "execution_count": 28,
   "id": "2a1f2ecd",
   "metadata": {},
   "outputs": [
    {
     "data": {
      "text/plain": [
       "100"
      ]
     },
     "execution_count": 28,
     "metadata": {},
     "output_type": "execute_result"
    }
   ],
   "source": [
    "len(debug_subs + pilot_subs)"
   ]
  },
  {
   "cell_type": "code",
   "execution_count": 29,
   "id": "930babe0",
   "metadata": {},
   "outputs": [],
   "source": [
    "ft = knot.map(debug_subs + pilot_subs)"
   ]
  },
  {
   "cell_type": "code",
   "execution_count": 30,
   "id": "0fa5400f",
   "metadata": {},
   "outputs": [
    {
     "name": "stdout",
     "output_type": "stream",
     "text": [
      "Job ID              Name                        Status   \n",
      "---------------------------------------------------------\n",
      "66e897d9-99b8-4def-a99d-a53646fa7f45        afq-hbn-like-hcp-20210731-0-0        SUBMITTED\n"
     ]
    }
   ],
   "source": [
    "ck.set_region('us-west-2')\n",
    "knot.view_jobs()"
   ]
  },
  {
   "cell_type": "code",
   "execution_count": 31,
   "id": "0222a07c",
   "metadata": {},
   "outputs": [
    {
     "data": {
      "text/plain": [
       "2086"
      ]
     },
     "execution_count": 31,
     "metadata": {},
     "output_type": "execute_result"
    }
   ],
   "source": [
    "len(remaining_subs)"
   ]
  },
  {
   "cell_type": "code",
   "execution_count": 32,
   "id": "ea2be4dc",
   "metadata": {},
   "outputs": [],
   "source": [
    "production_knot = ck.Knot(\n",
    "    name=\"afq-hbn-like-hcp-20210731-1\",\n",
    "    docker_image=di,\n",
    "    pars_policies=(\"AmazonS3FullAccess\"),\n",
    "    bid_percentage=100,\n",
    "    volume_size=60,\n",
    "    memory=64000,\n",
    "    job_def_vcpus=4,\n",
    "    max_vcpus=8192,\n",
    "    retries=3,\n",
    "    aws_resource_tags={\"Project\": \"HBN-FCP-INDI\"},\n",
    ")"
   ]
  },
  {
   "cell_type": "code",
   "execution_count": 38,
   "id": "0a616ee7",
   "metadata": {},
   "outputs": [],
   "source": [
    "ft = production_knot.map(remaining_subs)"
   ]
  },
  {
   "cell_type": "code",
   "execution_count": 40,
   "id": "7a65faea",
   "metadata": {},
   "outputs": [
    {
     "name": "stdout",
     "output_type": "stream",
     "text": [
      "Job ID              Name                        Status   \n",
      "---------------------------------------------------------\n",
      "80ff8a26-55c4-4274-9a4b-e7b528e68427        afq-hbn-like-hcp-20210731-1-0        PENDING  \n"
     ]
    }
   ],
   "source": [
    "ck.set_region('us-west-2')\n",
    "production_knot.view_jobs()"
   ]
  },
  {
   "cell_type": "code",
   "execution_count": 47,
   "id": "6d03f6d6",
   "metadata": {},
   "outputs": [],
   "source": [
    "production_knot.clobber(clobber_pars=True)"
   ]
  },
  {
   "cell_type": "code",
   "execution_count": null,
   "id": "620ec9bb",
   "metadata": {},
   "outputs": [],
   "source": []
  }
 ],
 "metadata": {
  "kernelspec": {
   "display_name": "Python 3",
   "language": "python",
   "name": "python3"
  },
  "language_info": {
   "codemirror_mode": {
    "name": "ipython",
    "version": 3
   },
   "file_extension": ".py",
   "mimetype": "text/x-python",
   "name": "python",
   "nbconvert_exporter": "python",
   "pygments_lexer": "ipython3",
   "version": "3.8.6"
  }
 },
 "nbformat": 4,
 "nbformat_minor": 5
}
