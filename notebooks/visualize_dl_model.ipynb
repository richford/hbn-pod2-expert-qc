{
 "cells": [
  {
   "cell_type": "code",
   "execution_count": 1,
   "id": "20140802",
   "metadata": {},
   "outputs": [],
   "source": [
    "import numpy as np"
   ]
  },
  {
   "cell_type": "code",
   "execution_count": 2,
   "id": "85636d4b",
   "metadata": {},
   "outputs": [],
   "source": [
    "import tensorflow as tf"
   ]
  },
  {
   "cell_type": "code",
   "execution_count": 21,
   "id": "e7a47eea",
   "metadata": {},
   "outputs": [
    {
     "name": "stdout",
     "output_type": "stream",
     "text": [
      "WARNING:tensorflow:SavedModel saved prior to TF 2.5 detected when loading Keras model. Please ensure that you are saving the model with model.save() or tf.keras.models.save_model(), *NOT* tf.saved_model.save(). To confirm, there should be a file named \"keras_metadata.pb\" in the SavedModel directory.\n"
     ]
    }
   ],
   "source": [
    "saved_model_dir = \"../../data/osfstorage/deep-learning-qc/saved-models/report-model\"\n",
    "model = tf.keras.models.load_model(saved_model_dir)"
   ]
  },
  {
   "cell_type": "code",
   "execution_count": 22,
   "id": "dbb9e1ba",
   "metadata": {},
   "outputs": [],
   "source": [
    "def rename(model, layer, new_name):\n",
    "    def _get_node_suffix(name):\n",
    "        for old_name in old_nodes:\n",
    "            if old_name.startswith(name):\n",
    "                return old_name[len(name):]\n",
    "\n",
    "    old_name = layer.name\n",
    "    old_nodes = list(model._network_nodes)\n",
    "    new_nodes = []\n",
    "\n",
    "    for l in model.layers:\n",
    "        if l.name == old_name:\n",
    "            l._name = new_name\n",
    "            # vars(l).__setitem__('_name', new)  # bypasses .__setattr__\n",
    "            new_nodes.append(new_name + _get_node_suffix(old_name))\n",
    "        else:\n",
    "            new_nodes.append(l.name + _get_node_suffix(l.name))\n",
    "    model._network_nodes = set(new_nodes)"
   ]
  },
  {
   "cell_type": "code",
   "execution_count": 24,
   "id": "5b5f2992",
   "metadata": {},
   "outputs": [],
   "source": [
    "output_file = \"../../../../paper/figures/deep-learning-qc/model.pdf\"\n",
    "\n",
    "# cnn_layer = model.get_layer(\"model\")\n",
    "# cnn_layer._name=\"cnn\"\n",
    "rename(model, model.get_layer(\"model\"), \"cnn\")\n",
    "\n",
    "tf.keras.utils.plot_model(\n",
    "    model,\n",
    "    to_file=output_file,\n",
    "    rankdir=\"TB\",\n",
    "    show_shapes=True,\n",
    "    show_layer_names=True,\n",
    "#     expand_nested=True,\n",
    "#     show_layer_activations=True,\n",
    ")"
   ]
  },
  {
   "cell_type": "code",
   "execution_count": 25,
   "id": "c426bf82",
   "metadata": {},
   "outputs": [],
   "source": [
    "image_model = model.get_layer(\"cnn\")\n",
    "\n",
    "output_file = \"../../../../paper/figures/deep-learning-qc/image_model.pdf\"\n",
    "tf.keras.utils.plot_model(\n",
    "    image_model,\n",
    "    to_file=output_file,\n",
    "    rankdir=\"TB\",\n",
    "    show_shapes=True,\n",
    "    show_layer_names=True,\n",
    "#     expand_nested=True,\n",
    "#     show_layer_activations=True,\n",
    ")"
   ]
  },
  {
   "cell_type": "code",
   "execution_count": 27,
   "id": "61144931",
   "metadata": {},
   "outputs": [
    {
     "name": "stdout",
     "output_type": "stream",
     "text": [
      "Model: \"multi_input_3dcnn\"\n",
      "__________________________________________________________________________________________________\n",
      "Layer (type)                    Output Shape         Param #     Connected to                     \n",
      "==================================================================================================\n",
      "input_1 (InputLayer)            [(None, 128, 128, 12 0                                            \n",
      "__________________________________________________________________________________________________\n",
      "image_input (Lambda)            (None, 128, 128, 128 0           input_1[0][0]                    \n",
      "__________________________________________________________________________________________________\n",
      "qc_metric_input (Lambda)        (None, 31)           0           input_1[0][0]                    \n",
      "__________________________________________________________________________________________________\n",
      "cnn (Functional)                (None, 256)          1225984     image_input[0][0]                \n",
      "__________________________________________________________________________________________________\n",
      "flatten (Flatten)               (None, 31)           0           qc_metric_input[0][0]            \n",
      "__________________________________________________________________________________________________\n",
      "concatenate (Concatenate)       (None, 287)          0           cnn[0][0]                        \n",
      "                                                                 flatten[0][0]                    \n",
      "__________________________________________________________________________________________________\n",
      "batch_normalization_4 (BatchNor (None, 287)          1148        concatenate[0][0]                \n",
      "__________________________________________________________________________________________________\n",
      "dense (Dense)                   (None, 512)          147456      batch_normalization_4[0][0]      \n",
      "__________________________________________________________________________________________________\n",
      "dropout (Dropout)               (None, 512)          0           dense[0][0]                      \n",
      "__________________________________________________________________________________________________\n",
      "dense_1 (Dense)                 (None, 128)          65664       dropout[0][0]                    \n",
      "__________________________________________________________________________________________________\n",
      "dropout_1 (Dropout)             (None, 128)          0           dense_1[0][0]                    \n",
      "__________________________________________________________________________________________________\n",
      "dense_2 (Dense)                 (None, 1)            129         dropout_1[0][0]                  \n",
      "==================================================================================================\n",
      "Total params: 1,440,381\n",
      "Trainable params: 1,438,783\n",
      "Non-trainable params: 1,598\n",
      "__________________________________________________________________________________________________\n"
     ]
    }
   ],
   "source": [
    "model.summary()"
   ]
  },
  {
   "cell_type": "code",
   "execution_count": null,
   "id": "44ba050a",
   "metadata": {},
   "outputs": [],
   "source": []
  }
 ],
 "metadata": {
  "kernelspec": {
   "display_name": "Python 3",
   "language": "python",
   "name": "python3"
  },
  "language_info": {
   "codemirror_mode": {
    "name": "ipython",
    "version": 3
   },
   "file_extension": ".py",
   "mimetype": "text/x-python",
   "name": "python",
   "nbconvert_exporter": "python",
   "pygments_lexer": "ipython3",
   "version": "3.8.8"
  }
 },
 "nbformat": 4,
 "nbformat_minor": 5
}
